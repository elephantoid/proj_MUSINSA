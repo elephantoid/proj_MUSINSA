{
 "cells": [
  {
   "cell_type": "code",
   "execution_count": 4,
   "metadata": {},
   "outputs": [
    {
     "data": {
      "text/plain": [
       "19"
      ]
     },
     "execution_count": 4,
     "metadata": {},
     "output_type": "execute_result"
    }
   ],
   "source": [
    "a='\t\t\t\t\t\t\t\t139,000원\t\t\t'\n",
    "len(a)"
   ]
  },
  {
   "cell_type": "code",
   "execution_count": 11,
   "metadata": {},
   "outputs": [
    {
     "name": "stdout",
     "output_type": "stream",
     "text": [
      "https://store.musinsa.com/app/items/lists/001010/?category=&d_cat_cd=1010&u_cat_cd=&brand=&sort=sale_high&sub_sort=3m&display_cntt=90&page=1\n",
      "https://store.musinsa.com/app/items/lists/001010/?category=&d_cat_cd=1010&u_cat_cd=&brand=&sort=sale_high&sub_sort=3m&display_cntt=90&page=2\n",
      "https://store.musinsa.com/app/items/lists/001010/?category=&d_cat_cd=1010&u_cat_cd=&brand=&sort=sale_high&sub_sort=3m&display_cntt=90&page=3\n",
      "https://store.musinsa.com/app/items/lists/001010/?category=&d_cat_cd=1010&u_cat_cd=&brand=&sort=sale_high&sub_sort=3m&display_cntt=90&page=4\n",
      "https://store.musinsa.com/app/items/lists/001010/?category=&d_cat_cd=1010&u_cat_cd=&brand=&sort=sale_high&sub_sort=3m&display_cntt=90&page=5\n",
      "https://store.musinsa.com/app/items/lists/002003/?category=&d_cat_cd=2003&u_cat_cd=&brand=&sort=sale_high&sub_sort=3m&display_cntt=90&page=1\n",
      "https://store.musinsa.com/app/items/lists/002003/?category=&d_cat_cd=2003&u_cat_cd=&brand=&sort=sale_high&sub_sort=3m&display_cntt=90&page=2\n",
      "https://store.musinsa.com/app/items/lists/002003/?category=&d_cat_cd=2003&u_cat_cd=&brand=&sort=sale_high&sub_sort=3m&display_cntt=90&page=3\n",
      "https://store.musinsa.com/app/items/lists/002003/?category=&d_cat_cd=2003&u_cat_cd=&brand=&sort=sale_high&sub_sort=3m&display_cntt=90&page=4\n",
      "https://store.musinsa.com/app/items/lists/002003/?category=&d_cat_cd=2003&u_cat_cd=&brand=&sort=sale_high&sub_sort=3m&display_cntt=90&page=5\n",
      "https://store.musinsa.com/app/items/lists/001006/?category=&d_cat_cd=1006&u_cat_cd=&brand=&sort=sale_high&sub_sort=3m&display_cntt=90&page=1\n",
      "https://store.musinsa.com/app/items/lists/001006/?category=&d_cat_cd=1006&u_cat_cd=&brand=&sort=sale_high&sub_sort=3m&display_cntt=90&page=2\n",
      "https://store.musinsa.com/app/items/lists/001006/?category=&d_cat_cd=1006&u_cat_cd=&brand=&sort=sale_high&sub_sort=3m&display_cntt=90&page=3\n",
      "https://store.musinsa.com/app/items/lists/001006/?category=&d_cat_cd=1006&u_cat_cd=&brand=&sort=sale_high&sub_sort=3m&display_cntt=90&page=4\n",
      "https://store.musinsa.com/app/items/lists/001006/?category=&d_cat_cd=1006&u_cat_cd=&brand=&sort=sale_high&sub_sort=3m&display_cntt=90&page=5\n",
      "https://store.musinsa.com/app/items/lists/001004/?category=&d_cat_cd=1004&u_cat_cd=&brand=&sort=sale_high&sub_sort=3m&display_cntt=90&page=1\n",
      "https://store.musinsa.com/app/items/lists/001004/?category=&d_cat_cd=1004&u_cat_cd=&brand=&sort=sale_high&sub_sort=3m&display_cntt=90&page=2\n",
      "https://store.musinsa.com/app/items/lists/001004/?category=&d_cat_cd=1004&u_cat_cd=&brand=&sort=sale_high&sub_sort=3m&display_cntt=90&page=3\n",
      "https://store.musinsa.com/app/items/lists/001004/?category=&d_cat_cd=1004&u_cat_cd=&brand=&sort=sale_high&sub_sort=3m&display_cntt=90&page=4\n",
      "https://store.musinsa.com/app/items/lists/001004/?category=&d_cat_cd=1004&u_cat_cd=&brand=&sort=sale_high&sub_sort=3m&display_cntt=90&page=5\n",
      "https://store.musinsa.com/app/items/lists/001005/?category=&d_cat_cd=1005&u_cat_cd=&brand=&sort=sale_high&sub_sort=3m&display_cntt=90&page=1\n",
      "https://store.musinsa.com/app/items/lists/001005/?category=&d_cat_cd=1005&u_cat_cd=&brand=&sort=sale_high&sub_sort=3m&display_cntt=90&page=2\n",
      "https://store.musinsa.com/app/items/lists/001005/?category=&d_cat_cd=1005&u_cat_cd=&brand=&sort=sale_high&sub_sort=3m&display_cntt=90&page=3\n",
      "https://store.musinsa.com/app/items/lists/001005/?category=&d_cat_cd=1005&u_cat_cd=&brand=&sort=sale_high&sub_sort=3m&display_cntt=90&page=4\n",
      "https://store.musinsa.com/app/items/lists/001005/?category=&d_cat_cd=1005&u_cat_cd=&brand=&sort=sale_high&sub_sort=3m&display_cntt=90&page=5\n",
      "https://store.musinsa.com/app/items/lists/003002/?category=&d_cat_cd=3002&u_cat_cd=&brand=&sort=sale_high&sub_sort=3m&display_cntt=90&page=1\n",
      "https://store.musinsa.com/app/items/lists/003002/?category=&d_cat_cd=3002&u_cat_cd=&brand=&sort=sale_high&sub_sort=3m&display_cntt=90&page=2\n",
      "https://store.musinsa.com/app/items/lists/003002/?category=&d_cat_cd=3002&u_cat_cd=&brand=&sort=sale_high&sub_sort=3m&display_cntt=90&page=3\n",
      "https://store.musinsa.com/app/items/lists/003002/?category=&d_cat_cd=3002&u_cat_cd=&brand=&sort=sale_high&sub_sort=3m&display_cntt=90&page=4\n",
      "https://store.musinsa.com/app/items/lists/003002/?category=&d_cat_cd=3002&u_cat_cd=&brand=&sort=sale_high&sub_sort=3m&display_cntt=90&page=5\n",
      "https://store.musinsa.com/app/items/lists/003008/?category=&d_cat_cd=3008&u_cat_cd=&brand=&sort=sale_high&sub_sort=3m&display_cntt=90&page=1\n",
      "https://store.musinsa.com/app/items/lists/003008/?category=&d_cat_cd=3008&u_cat_cd=&brand=&sort=sale_high&sub_sort=3m&display_cntt=90&page=2\n",
      "https://store.musinsa.com/app/items/lists/003008/?category=&d_cat_cd=3008&u_cat_cd=&brand=&sort=sale_high&sub_sort=3m&display_cntt=90&page=3\n",
      "https://store.musinsa.com/app/items/lists/003008/?category=&d_cat_cd=3008&u_cat_cd=&brand=&sort=sale_high&sub_sort=3m&display_cntt=90&page=4\n",
      "https://store.musinsa.com/app/items/lists/003008/?category=&d_cat_cd=3008&u_cat_cd=&brand=&sort=sale_high&sub_sort=3m&display_cntt=90&page=5\n",
      "https://store.musinsa.com/app/items/lists/002015/?category=&d_cat_cd=2015&u_cat_cd=&brand=&sort=sale_high&sub_sort=3m&display_cntt=90&page=1\n",
      "https://store.musinsa.com/app/items/lists/002015/?category=&d_cat_cd=2015&u_cat_cd=&brand=&sort=sale_high&sub_sort=3m&display_cntt=90&page=2\n",
      "https://store.musinsa.com/app/items/lists/002015/?category=&d_cat_cd=2015&u_cat_cd=&brand=&sort=sale_high&sub_sort=3m&display_cntt=90&page=3\n",
      "https://store.musinsa.com/app/items/lists/002015/?category=&d_cat_cd=2015&u_cat_cd=&brand=&sort=sale_high&sub_sort=3m&display_cntt=90&page=4\n",
      "https://store.musinsa.com/app/items/lists/002015/?category=&d_cat_cd=2015&u_cat_cd=&brand=&sort=sale_high&sub_sort=3m&display_cntt=90&page=5\n",
      "https://store.musinsa.com/app/items/lists/003004/?category=&d_cat_cd=3004&u_cat_cd=&brand=&sort=sale_high&sub_sort=3m&display_cntt=90&page=1\n",
      "https://store.musinsa.com/app/items/lists/003004/?category=&d_cat_cd=3004&u_cat_cd=&brand=&sort=sale_high&sub_sort=3m&display_cntt=90&page=2\n",
      "https://store.musinsa.com/app/items/lists/003004/?category=&d_cat_cd=3004&u_cat_cd=&brand=&sort=sale_high&sub_sort=3m&display_cntt=90&page=3\n",
      "https://store.musinsa.com/app/items/lists/003004/?category=&d_cat_cd=3004&u_cat_cd=&brand=&sort=sale_high&sub_sort=3m&display_cntt=90&page=4\n",
      "https://store.musinsa.com/app/items/lists/003004/?category=&d_cat_cd=3004&u_cat_cd=&brand=&sort=sale_high&sub_sort=3m&display_cntt=90&page=5\n"
     ]
    }
   ],
   "source": [
    "CategoryId_list = [\n",
    "    ['긴팔 티셔츠', 1010],\n",
    "    ['슈트/블레이저', 2003],\n",
    "    ['니트/스웨터', 1006],\n",
    "    ['후드 티셔츠', 1004],\n",
    "    ['맨투맨/스웨트셔츠',1005],\n",
    "    ['데님 팬츠',3002],\n",
    "    ['슈트 팬츠/슬랙스', 3008],\n",
    "    ['기타 아우터', 2015],\n",
    "    ['트레이닝/조거 팬츠',3004]\n",
    "]\n",
    "for i in range(len(CategoryId_list)):\n",
    "    CategoryId = CategoryId_list[i][1]\n",
    "    for k in range(1,6):\n",
    "        Limit=k\n",
    "        url= \"https://store.musinsa.com/app/items/lists/\"\\\n",
    "        +'00'+ str(CategoryId)+'/?category=&d_cat_cd='+str(CategoryId)+f\"&u_cat_cd=&brand=&sort=sale_high&sub_sort=3m&display_cntt=90&page={Limit}\"\n",
    "        print(url)"
   ]
  },
  {
   "cell_type": "code",
   "execution_count": 3,
   "metadata": {},
   "outputs": [
    {
     "data": {
      "text/plain": [
       "14"
      ]
     },
     "execution_count": 3,
     "metadata": {},
     "output_type": "execute_result"
    }
   ],
   "source": [
    "b='\t\t\t\t35,600원\t\t\t'\n",
    "len(b)"
   ]
  }
 ],
 "metadata": {
  "kernelspec": {
   "display_name": "Python 3",
   "language": "python",
   "name": "python3"
  },
  "language_info": {
   "codemirror_mode": {
    "name": "ipython",
    "version": 3
   },
   "file_extension": ".py",
   "mimetype": "text/x-python",
   "name": "python",
   "nbconvert_exporter": "python",
   "pygments_lexer": "ipython3",
   "version": "3.8.5"
  }
 },
 "nbformat": 4,
 "nbformat_minor": 4
}
