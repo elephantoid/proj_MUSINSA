{
 "cells": [
  {
   "cell_type": "code",
   "execution_count": 1,
   "metadata": {},
   "outputs": [],
   "source": [
    "from faker import Faker"
   ]
  },
  {
   "cell_type": "code",
   "execution_count": 2,
   "metadata": {},
   "outputs": [],
   "source": [
    "fake =Faker('ko_KR')\n",
    "Faker.seed(0);"
   ]
  },
  {
   "cell_type": "code",
   "execution_count": 19,
   "metadata": {},
   "outputs": [],
   "source": [
    "fake.address();"
   ]
  },
  {
   "cell_type": "code",
   "execution_count": 3,
   "metadata": {},
   "outputs": [
    {
     "data": {
      "text/plain": [
       "'ni@naver.com'"
      ]
     },
     "execution_count": 3,
     "metadata": {},
     "output_type": "execute_result"
    }
   ],
   "source": [
    "fake.email()"
   ]
  },
  {
   "cell_type": "code",
   "execution_count": 14,
   "metadata": {},
   "outputs": [
    {
     "data": {
      "text/plain": [
       "'이지민'"
      ]
     },
     "execution_count": 14,
     "metadata": {},
     "output_type": "execute_result"
    }
   ],
   "source": [
    "fake.name()"
   ]
  },
  {
   "cell_type": "code",
   "execution_count": 22,
   "metadata": {},
   "outputs": [
    {
     "name": "stdout",
     "output_type": "stream",
     "text": [
      "id: iyeongjin@iii.org passward: pden069e\n",
      "name: 장채원\n",
      "phone: 02-9602-7142 address 경상남도 충주시 압구정5길\n",
      "ssn: 630821-1206650\n"
     ]
    }
   ],
   "source": [
    "print(\"id:\", fake.email(),\n",
    "     \"passward:\", fake.password(length=8, special_chars=False, upper_case=False))\n",
    "print(\"name:\", fake.name())\n",
    "print(\"phone:\", fake.phone_number(),\n",
    "     \"address\", fake.address())\n",
    "print(\"ssn:\", fake.ssn())\n",
    "print()\n"
   ]
  },
  {
   "cell_type": "code",
   "execution_count": 1,
   "metadata": {},
   "outputs": [],
   "source": [
    "import pymysql"
   ]
  },
  {
   "cell_type": "code",
   "execution_count": 5,
   "metadata": {},
   "outputs": [],
   "source": [
    "db = pymysql.connect(host='localhost', user='root', password='root', db='mall')\n",
    "curs = db.cursor()\n",
    "query = \"select * from users\"\n",
    "curs.execute(query)\n",
    "rows = curs.fetchall()\n",
    "for row in rows:\n",
    "    print(row)\n",
    "db.close()"
   ]
  },
  {
   "cell_type": "code",
   "execution_count": 6,
   "metadata": {},
   "outputs": [
    {
     "name": "stdout",
     "output_type": "stream",
     "text": [
      "INSERT INTO users(id, password, name, cellphone, address, ssn, CI, DI, birthday, gender, join_date) VALUES('gildong@naver.com','abcd1234','홍길동','010-1234-1234','전남 장성군 황룡면 아곡리', '911212-1010101', '-','-','1991-12-12','-', now());\n"
     ]
    }
   ],
   "source": [
    "query = \"INSERT INTO users(id, password, name, cellphone, address, ssn, CI, DI, birthday, gender, join_date) VALUES('gildong@naver.com','abcd1234','홍길동','010-1234-1234','전남 장성군 황룡면 아곡리', '911212-1010101', '-','-','1991-12-12','-', now());\"\n",
    "print(query)"
   ]
  },
  {
   "cell_type": "code",
   "execution_count": 7,
   "metadata": {},
   "outputs": [],
   "source": [
    "db = pymysql.connect(host='localhost', user='root', password='root', db='mall')\n",
    "curs = db.cursor()\n",
    "curs.execute(query)\n",
    "db.commit()\n",
    "db.close()"
   ]
  },
  {
   "cell_type": "code",
   "execution_count": 8,
   "metadata": {},
   "outputs": [
    {
     "name": "stdout",
     "output_type": "stream",
     "text": [
      "INSERT INTO users(id, password, name, cellphone,address, ssn, CI, DI, birthday, gender, join_date)VALUES('minjuni@naver.com','Y7XoXxDj','044-342-3209','김명자','064-722-0186','전라북도 춘천시 테헤란거리 (지후이박리)','510519-2179533','-','-',now(),'-',now());\n"
     ]
    }
   ],
   "source": [
    "query = \"INSERT INTO users(id, password, name, cellphone,\\\n",
    "address, ssn, CI, DI, birthday, gender, join_date)\\\n",
    "VALUES('\"\\\n",
    "+fake.email()\\\n",
    "+\"','\"\\\n",
    "+fake.password(length=8, special_chars=False, upper_case=True)\\\n",
    "+\"','\"\\\n",
    "+fake.phone_number()\\\n",
    "+\"','\"\\\n",
    "+fake.name()\\\n",
    "+\"','\"\\\n",
    "+fake.phone_number()\\\n",
    "+\"','\"\\\n",
    "+fake.address()\\\n",
    "+\"','\"\\\n",
    "+fake.ssn()\\\n",
    "+\"','-','-',now(),'-',now());\"\n",
    "print(query)"
   ]
  },
  {
   "cell_type": "code",
   "execution_count": 9,
   "metadata": {},
   "outputs": [
    {
     "name": "stdout",
     "output_type": "stream",
     "text": [
      "410305-1256012\n",
      "41\n",
      "1\n",
      "birthday: 1941-03-05\n",
      "gender: M\n"
     ]
    }
   ],
   "source": [
    "ssn=fake.ssn()\n",
    "print(ssn)\n",
    "print(ssn[0:2])\n",
    "print(ssn[7])\n",
    "if ssn[7]=='1' or ssn[7]=='2':\n",
    "    print('birthday: 19'+ssn[0:2]+'-'+ssn[2:4]+'-'+ssn[4:6])\n",
    "elif ssn[7]=='3' or ssn[7]=='4':\n",
    "    print('birthday: 20'+ssn[0:2]+'-'+ssn[2:4]+'-'+ssn[4:6])\n",
    "if ssn[7]=='1' or ssn[7]=='3':\n",
    "    print('gender: M')\n",
    "elif ssn[7]=='2' or ssn[7]=='4':\n",
    "    print('gender: F')\n"
   ]
  },
  {
   "cell_type": "code",
   "execution_count": 10,
   "metadata": {},
   "outputs": [],
   "source": [
    "db= pymysql.connect(host='localhost',user='root',password='root',db='mall')\n",
    "curs =db.cursor()\n",
    "ssn=fake.ssn()\n",
    "if ssn[7]=='1' or ssn[7]=='2':\n",
    "    birthday= '19'+ssn[0:2]+'-'+ssn[2:4]+'-'+ssn[4:6]\n",
    "elif ssn[7]=='3' or ssn[7]=='4':\n",
    "    birthday= '20'+ssn[0:2]+'-'+ssn[2:4]+'-'+ssn[4:6]\n",
    "if ssn[7]=='1' or ssn[7]=='3':\n",
    "    gender='M'\n",
    "elif ssn[7]=='2' or ssn[7]=='4':\n",
    "    gender = 'F'\n",
    "query = \"INSERT INTO users(id, password, name, cellphone,\\\n",
    "address, ssn, CI, DI, birthday, gender, join_date)\\\n",
    "VALUES('\"\\\n",
    "+fake.email() +\"','\"\\\n",
    "+fake.password(length=8, special_chars=False, upper_case=True)\\\n",
    "+\"','\"\\\n",
    "+fake.name() +\"','\"\\\n",
    "+fake.phone_number() +\"','\"\\\n",
    "+fake.address() +\"','\"\\\n",
    "+ssn +\"','-','-','\"\\\n",
    "+birthday+\"','\"\\\n",
    "+gender+\"', now());\"\n",
    "curs.execute(query)\n",
    "db.commit()\n",
    "db.close()"
   ]
  },
  {
   "cell_type": "code",
   "execution_count": 11,
   "metadata": {
    "scrolled": true
   },
   "outputs": [
    {
     "name": "stdout",
     "output_type": "stream",
     "text": [
      "(1, 'gildong@naver.com', 'abcd1234', '홍길동', '010-1234-1234', '전남 장성군 황룡면 아곡리', '911212-1010101', '-', '-', datetime.date(1991, 12, 12), '-', datetime.date(2020, 10, 6))\n",
      "(2, 'gimjeongsun@gmail.com', 'x97Agw1Q', '이시우', '031-709-1634', '경상북도 홍성군 봉은사022길', '300928-2910139', '-', '-', datetime.date(1930, 9, 28), 'F', datetime.date(2020, 10, 6))\n"
     ]
    },
    {
     "data": {
      "text/plain": [
       "<bound method Connection.close of <pymysql.connections.Connection object at 0x000001D7FA6A11F0>>"
      ]
     },
     "execution_count": 11,
     "metadata": {},
     "output_type": "execute_result"
    }
   ],
   "source": [
    "db= pymysql.connect(host='localhost',user='root',password='root',db='mall')\n",
    "curs =db.cursor()\n",
    "query = \"select * from users\"\n",
    "curs.execute(query)\n",
    "rows = curs.fetchall()\n",
    "for row in rows:\n",
    "    print(row)\n",
    "db.close"
   ]
  },
  {
   "cell_type": "code",
   "execution_count": 19,
   "metadata": {},
   "outputs": [
    {
     "name": "stdout",
     "output_type": "stream",
     "text": [
      "INSERT IGNORE INTO users(seq, id, password, name, cellphone,address, ssn, CI, DI, birthday, gender, join_date) VALUES(994,'juweon89@gimgim.net','3230ggko','이경희','052-899-9446','전라북도 광명시 백제고분가 (준혁박이리)','440917-2775353','-','-','1944-09-17','F', '2011-03-23');\n",
      "INSERT IGNORE INTO users(seq, id, password, name, cellphone,address, ssn, CI, DI, birthday, gender, join_date) VALUES(995,'yunyeweon@naver.com','73yw0h31','홍중수','054-225-0338','대전광역시 구로구 영동대0가','540327-1450755','-','-','1954-03-27','M', '2018-02-23');\n",
      "INSERT IGNORE INTO users(seq, id, password, name, cellphone,address, ssn, CI, DI, birthday, gender, join_date) VALUES(996,'yejingim@yu.kr','29g40klj','김민지','070-8794-2650','경상남도 음성군 삼성로 (춘자이읍)','650907-1041810','-','-','1965-09-07','M', '2015-06-03');\n",
      "INSERT IGNORE INTO users(seq, id, password, name, cellphone,address, ssn, CI, DI, birthday, gender, join_date) VALUES(997,'coeseonghyeon@heoyanggim.org','uegk67a2','김도현','032-440-0640','경상북도 음성군 서초중앙986거리','890418-2658367','-','-','1989-04-18','F', '2015-10-13');\n",
      "INSERT IGNORE INTO users(seq, id, password, name, cellphone,address, ssn, CI, DI, birthday, gender, join_date) VALUES(998,'bagjeongnam@iibag.kr','l9rxhprs','김은영','042-522-4578','전라북도 이천시 봉은사가','380314-1617448','-','-','1938-03-14','M', '2015-03-19');\n",
      "INSERT IGNORE INTO users(seq, id, password, name, cellphone,address, ssn, CI, DI, birthday, gender, join_date) VALUES(999,'seungmin40@hanmail.net','7yq6veor','김지원','011-934-2124','충청북도 화성시 오금가 (현준안박읍)','560922-1180514','-','-','1956-09-22','M', '2020-09-07');\n",
      "INSERT IGNORE INTO users(seq, id, password, name, cellphone,address, ssn, CI, DI, birthday, gender, join_date) VALUES(1000,'yangbyeongceol@gimibaeg.net','eeh73dpd','박서영','053-669-9667','충청북도 보령시 압구정4길 (은영한마을)','460514-1014021','-','-','1946-05-14','M', '2014-04-18');\n"
     ]
    }
   ],
   "source": [
    "import pymysql\n",
    "db= pymysql.connect(host='localhost',user='root',password='root',db='mall')\n",
    "curs =db.cursor()\n",
    "seq = 994\n",
    "for _ in range(7):\n",
    "    while True:\n",
    "        ssn=fake.ssn()\n",
    "        if (ssn[2]=='0' and ssn[3]=='0') or (ssn[4]=='0' and ssn[5]=='0'):\n",
    "            continue\n",
    "        break\n",
    "    if ssn[7]=='1' or ssn[7]=='2':\n",
    "        birthday= '19'+ssn[0:2]+'-'+ssn[2:4]+'-'+ssn[4:6]\n",
    "    elif ssn[7]=='3' or ssn[7]=='4':\n",
    "        birthday= '20'+ssn[0:2]+'-'+ssn[2:4]+'-'+ssn[4:6]\n",
    "    if ssn[7]=='1' or ssn[7]=='3':\n",
    "        gender='M'\n",
    "    elif ssn[7]=='2' or ssn[7]=='4':\n",
    "        gender = 'F'\n",
    "    query = \"INSERT IGNORE INTO users(seq, id, password, name, cellphone,\\\n",
    "address, ssn, CI, DI, birthday, gender, join_date) \\\n",
    "VALUES(\"\\\n",
    "    +str(seq)+\",'\"+fake.email() +\"','\"\\\n",
    "    +fake.password(length=8, special_chars=False, upper_case=False)\\\n",
    "    +\"','\"\\\n",
    "    +fake.name() +\"','\"\\\n",
    "    +fake.phone_number() +\"','\"\\\n",
    "    +fake.address() +\"','\"\\\n",
    "    +ssn +\"','-','-','\"\\\n",
    "    +birthday+\"','\"\\\n",
    "    +gender+\"', '\"\\\n",
    "    +str(fake.date_between(start_date='-10y', end_date='-2m'))+\"');\"\n",
    "    ret=curs.execute(query)\n",
    "    print(query)\n",
    "    if ret == 1:\n",
    "        seq += 1\n",
    "    else:\n",
    "        print(\"error\",seq,\"ret\",ret)\n",
    "db.commit()\n",
    "db.close()"
   ]
  },
  {
   "cell_type": "code",
   "execution_count": null,
   "metadata": {},
   "outputs": [],
   "source": []
  }
 ],
 "metadata": {
  "kernelspec": {
   "display_name": "Python 3",
   "language": "python",
   "name": "python3"
  },
  "language_info": {
   "codemirror_mode": {
    "name": "ipython",
    "version": 3
   },
   "file_extension": ".py",
   "mimetype": "text/x-python",
   "name": "python",
   "nbconvert_exporter": "python",
   "pygments_lexer": "ipython3",
   "version": "3.8.5"
  }
 },
 "nbformat": 4,
 "nbformat_minor": 4
}
